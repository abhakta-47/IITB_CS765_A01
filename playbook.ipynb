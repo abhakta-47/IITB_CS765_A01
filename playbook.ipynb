{
 "cells": [
  {
   "cell_type": "code",
   "execution_count": null,
   "metadata": {},
   "outputs": [],
   "source": [
    "class Transaction:\n",
    "    from_id: \"Peer\"\n",
    "    to_id: \"Peer\"\n",
    "    amount: int\n",
    "\n",
    "    def __init__(self, txn_id, from_id, to_id, amount):\n",
    "        self.txn_id = txn_id\n",
    "        self.from_id = from_id\n",
    "        self.to_id = to_id\n",
    "        self.amount = amount\n",
    "\n",
    "\n",
    "class Peer:\n",
    "    id: int\n",
    "    is_slow: bool\n",
    "\n",
    "    def __init__(self, id, is_slow):\n",
    "        self.id = id\n",
    "        self.is_slow = is_slow\n",
    "    \n",
    "    def __repr__(self):\n",
    "        return f\"Peer(id={self.id}, is_slow={self.is_slow})\"\n",
    "    \n",
    "    def gen_txn(self):\n",
    "        return Transaction(txn_id, self.id, self.is_slow)"
   ]
  }
 ],
 "metadata": {
  "language_info": {
   "name": "python"
  },
  "orig_nbformat": 4
 },
 "nbformat": 4,
 "nbformat_minor": 2
}
